{
 "cells": [
  {
   "cell_type": "code",
   "execution_count": null,
   "metadata": {},
   "outputs": [],
   "source": [
    "# MULTICLASS ENGLISH TEXT CLASSIFICATION USING AN LSTM "
   ]
  },
  {
   "cell_type": "code",
   "execution_count": 1,
   "metadata": {},
   "outputs": [],
   "source": [
    "import pandas as pd # we need this package to manipulate data structues for data analysis and statistics\n",
    "df = pd.read_csv(\"../../Datasets/MulticlassTextDataset.csv\", delimiter=',', dtype='unicode') "
   ]
  },
  {
   "cell_type": "code",
   "execution_count": 2,
   "metadata": {},
   "outputs": [
    {
     "name": "stdout",
     "output_type": "stream",
     "text": [
      "<class 'pandas.core.frame.DataFrame'>\n",
      "RangeIndex: 938336 entries, 0 to 938335\n",
      "Data columns (total 18 columns):\n",
      "Date received                   938336 non-null object\n",
      "Product                         938333 non-null object\n",
      "Sub-product                     836747 non-null object\n",
      "Issue                           938333 non-null object\n",
      "Sub-issue                       698628 non-null object\n",
      "Consumer complaint narrative    409889 non-null object\n",
      "Company public response         469761 non-null object\n",
      "Company                         938332 non-null object\n",
      "State                           918873 non-null object\n",
      "ZIP code                        822760 non-null object\n",
      "Tags                            127572 non-null object\n",
      "Consumer consent provided?      732020 non-null object\n",
      "Submitted via                   938332 non-null object\n",
      "Date sent to company            938332 non-null object\n",
      "Company response to consumer    938331 non-null object\n",
      "Timely response?                938332 non-null object\n",
      "Consumer disputed?              296860 non-null object\n",
      "Complaint ID                    938332 non-null object\n",
      "dtypes: object(18)\n",
      "memory usage: 128.9+ MB\n"
     ]
    }
   ],
   "source": [
    "df.info()\n",
    "df = df[pd.notnull(df['Consumer complaint narrative'])]\n",
    "df = df[pd.notnull(df['Product'])]"
   ]
  },
  {
   "cell_type": "markdown",
   "metadata": {},
   "source": [
    "# TEXT PREPOCESSING : 1-CONSOLIDATION"
   ]
  },
  {
   "cell_type": "code",
   "execution_count": 5,
   "metadata": {},
   "outputs": [
    {
     "data": {
      "text/html": [
       "        <script type=\"text/javascript\">\n",
       "        window.PlotlyConfig = {MathJaxConfig: 'local'};\n",
       "        if (window.MathJax) {MathJax.Hub.Config({SVG: {font: \"STIX-Web\"}});}\n",
       "        if (typeof require !== 'undefined') {\n",
       "        require.undef(\"plotly\");\n",
       "        requirejs.config({\n",
       "            paths: {\n",
       "                'plotly': ['https://cdn.plot.ly/plotly-latest.min']\n",
       "            }\n",
       "        });\n",
       "        require(['plotly'], function(Plotly) {\n",
       "            window._Plotly = Plotly;\n",
       "        });\n",
       "        }\n",
       "        </script>\n",
       "        "
      ]
     },
     "metadata": {},
     "output_type": "display_data"
    },
    {
     "data": {
      "application/vnd.plotly.v1+json": {
       "config": {
        "linkText": "Export to plot.ly",
        "plotlyServerURL": "https://plot.ly",
        "showLink": true
       },
       "data": [
        {
         "marker": {
          "color": "rgba(255, 153, 51, 0.6)",
          "line": {
           "color": "rgba(255, 153, 51, 1.0)",
           "width": 1
          }
         },
         "name": "Complaint ID",
         "orientation": "v",
         "text": "",
         "type": "bar",
         "uid": "1d118347-dde5-4c0a-8417-fb2bcd86a7b1",
         "x": [
          "Bank account or service",
          "Checking or savings account",
          "Consumer Loan",
          "Credit card",
          "Credit card or prepaid card",
          "Credit reporting",
          "Credit reporting, credit repair services, or other personal consumer reports",
          "Debt collection",
          "Money transfer, virtual currency, or money service",
          "Money transfers",
          "Mortgage",
          "Other financial service",
          "Payday loan",
          "Payday loan, title loan, or personal loan",
          "Prepaid card",
          "Student loan",
          "Vehicle loan or lease",
          "Virtual currency"
         ],
         "y": [
          11686,
          16838,
          7243,
          14282,
          27968,
          23697,
          125370,
          87764,
          6944,
          1085,
          48980,
          231,
          1284,
          5600,
          1153,
          22484,
          7265,
          14
         ]
        }
       ],
       "layout": {
        "legend": {
         "bgcolor": "#F5F6F9",
         "font": {
          "color": "#4D5663"
         }
        },
        "paper_bgcolor": "#F5F6F9",
        "plot_bgcolor": "#F5F6F9",
        "title": {
         "font": {
          "color": "#4D5663"
         },
         "text": "Distribution of the data by product"
        },
        "xaxis": {
         "gridcolor": "#E1E5ED",
         "linecolor": "black",
         "showgrid": true,
         "tickfont": {
          "color": "#4D5663"
         },
         "title": {
          "font": {
           "color": "#4D5663"
          },
          "text": "product"
         },
         "zerolinecolor": "#E1E5ED"
        },
        "yaxis": {
         "gridcolor": "#E1E5ED",
         "linecolor": "black",
         "showgrid": true,
         "tickfont": {
          "color": "#4D5663"
         },
         "title": {
          "font": {
           "color": "#4D5663"
          },
          "text": "Count"
         },
         "zerolinecolor": "#E1E5ED"
        }
       }
      },
      "text/html": [
       "<div>\n",
       "        \n",
       "        \n",
       "            <div id=\"432efd1a-5af5-42ce-b106-ccef656814ac\" class=\"plotly-graph-div\" style=\"height:525px; width:100%;\"></div>\n",
       "            <script type=\"text/javascript\">\n",
       "                require([\"plotly\"], function(Plotly) {\n",
       "                    window.PLOTLYENV=window.PLOTLYENV || {};\n",
       "                    window.PLOTLYENV.BASE_URL='https://plot.ly';\n",
       "                    \n",
       "                if (document.getElementById(\"432efd1a-5af5-42ce-b106-ccef656814ac\")) {\n",
       "                    Plotly.newPlot(\n",
       "                        '432efd1a-5af5-42ce-b106-ccef656814ac',\n",
       "                        [{\"marker\": {\"color\": \"rgba(255, 153, 51, 0.6)\", \"line\": {\"color\": \"rgba(255, 153, 51, 1.0)\", \"width\": 1}}, \"name\": \"Complaint ID\", \"orientation\": \"v\", \"text\": \"\", \"type\": \"bar\", \"uid\": \"1d118347-dde5-4c0a-8417-fb2bcd86a7b1\", \"x\": [\"Bank account or service\", \"Checking or savings account\", \"Consumer Loan\", \"Credit card\", \"Credit card or prepaid card\", \"Credit reporting\", \"Credit reporting, credit repair services, or other personal consumer reports\", \"Debt collection\", \"Money transfer, virtual currency, or money service\", \"Money transfers\", \"Mortgage\", \"Other financial service\", \"Payday loan\", \"Payday loan, title loan, or personal loan\", \"Prepaid card\", \"Student loan\", \"Vehicle loan or lease\", \"Virtual currency\"], \"y\": [11686, 16838, 7243, 14282, 27968, 23697, 125370, 87764, 6944, 1085, 48980, 231, 1284, 5600, 1153, 22484, 7265, 14]}],\n",
       "                        {\"legend\": {\"bgcolor\": \"#F5F6F9\", \"font\": {\"color\": \"#4D5663\"}}, \"paper_bgcolor\": \"#F5F6F9\", \"plot_bgcolor\": \"#F5F6F9\", \"title\": {\"font\": {\"color\": \"#4D5663\"}, \"text\": \"Distribution of the data by product\"}, \"xaxis\": {\"gridcolor\": \"#E1E5ED\", \"linecolor\": \"black\", \"showgrid\": true, \"tickfont\": {\"color\": \"#4D5663\"}, \"title\": {\"font\": {\"color\": \"#4D5663\"}, \"text\": \"product\"}, \"zerolinecolor\": \"#E1E5ED\"}, \"yaxis\": {\"gridcolor\": \"#E1E5ED\", \"linecolor\": \"black\", \"showgrid\": true, \"tickfont\": {\"color\": \"#4D5663\"}, \"title\": {\"font\": {\"color\": \"#4D5663\"}, \"text\": \"Count\"}, \"zerolinecolor\": \"#E1E5ED\"}},\n",
       "                        {\"showLink\": true, \"linkText\": \"Export to plot.ly\", \"plotlyServerURL\": \"https://plot.ly\", \"responsive\": true}\n",
       "                    ).then(function(){\n",
       "                            \n",
       "var gd = document.getElementById('432efd1a-5af5-42ce-b106-ccef656814ac');\n",
       "var x = new MutationObserver(function (mutations, observer) {{\n",
       "        var display = window.getComputedStyle(gd).display;\n",
       "        if (!display || display === 'none') {{\n",
       "            console.log([gd, 'removed!']);\n",
       "            Plotly.purge(gd);\n",
       "            observer.disconnect();\n",
       "        }}\n",
       "}});\n",
       "\n",
       "// Listen for the removal of the full notebook cells\n",
       "var notebookContainer = gd.closest('#notebook-container');\n",
       "if (notebookContainer) {{\n",
       "    x.observe(notebookContainer, {childList: true});\n",
       "}}\n",
       "\n",
       "// Listen for the clearing of the current output cell\n",
       "var outputEl = gd.closest('.output');\n",
       "if (outputEl) {{\n",
       "    x.observe(outputEl, {childList: true});\n",
       "}}\n",
       "\n",
       "                        })\n",
       "                };\n",
       "                });\n",
       "            </script>\n",
       "        </div>"
      ]
     },
     "metadata": {},
     "output_type": "display_data"
    }
   ],
   "source": [
    "#Visulaisation of the districution of data grouped by product\n",
    "df['review_len'] = df['Consumer complaint narrative'].astype(str).apply(len)\n",
    "### Those lines make sure that the df will accept to be a pandas dataframe type instead of being recognized as a series times . in order to use the iplot function ##\n",
    "import cufflinks as cf\n",
    "cf.go_offline()\n",
    "cf.set_config_file(offline=False, world_readable=True)\n",
    "############################################################################################\n",
    "#bar plot of the distribution\n",
    "df.groupby(\"Product\").count()['Complaint ID'].iplot(\n",
    "    kind='bar', yTitle='Count', linecolor='black', title='Distribution of the data by product', xTitle='product')"
   ]
  },
  {
   "cell_type": "code",
   "execution_count": 6,
   "metadata": {},
   "outputs": [],
   "source": [
    "## CONSOLIDATION OF THE LABELs\n",
    "#since some product label aren't having a lot of data, we are going to m\n",
    "df.loc[df['Product'] == 'Credit reporting', 'Product'] = 'Credit reporting, credit repair services, or other personal consumer reports'\n",
    "df.loc[df['Product'] == 'Credit card', 'Product'] = 'Credit card or prepaid card'\n",
    "df.loc[df['Product'] == 'Payday loan', 'Product'] = 'Payday loan, title loan, or personal loan'\n",
    "df.loc[df['Product'] == 'Virtual currency', 'Product'] = 'Money transfer, virtual currency, or money service'\n",
    "df = df[df.Product != 'Other financial service']"
   ]
  },
  {
   "cell_type": "code",
   "execution_count": 16,
   "metadata": {},
   "outputs": [
    {
     "data": {
      "application/vnd.plotly.v1+json": {
       "config": {
        "linkText": "Export to plot.ly",
        "plotlyServerURL": "https://plot.ly",
        "showLink": true
       },
       "data": [
        {
         "marker": {
          "color": "rgba(255, 153, 51, 0.6)",
          "line": {
           "color": "rgba(255, 153, 51, 1.0)",
           "width": 1
          }
         },
         "name": "Product",
         "orientation": "v",
         "text": "",
         "type": "bar",
         "uid": "df66ca64-bb38-442a-b0d0-ebda639f98a5",
         "x": [
          "Credit reporting, credit repair services, or other personal consumer reports",
          "Debt collection",
          "Mortgage",
          "Credit card or prepaid card",
          "Student loan",
          "Checking or savings account",
          "Bank account or service",
          "Vehicle loan or lease",
          "Consumer Loan",
          "Money transfer, virtual currency, or money service",
          "Payday loan, title loan, or personal loan",
          "Prepaid card",
          "Money transfers"
         ],
         "y": [
          149068,
          87764,
          48980,
          42250,
          22484,
          16838,
          11686,
          7265,
          7243,
          6958,
          6884,
          1153,
          1085
         ]
        }
       ],
       "layout": {
        "legend": {
         "bgcolor": "#F5F6F9",
         "font": {
          "color": "#4D5663"
         }
        },
        "paper_bgcolor": "#F5F6F9",
        "plot_bgcolor": "#F5F6F9",
        "title": {
         "font": {
          "color": "#4D5663"
         },
         "text": "Number complaints in each product"
        },
        "xaxis": {
         "gridcolor": "#E1E5ED",
         "showgrid": true,
         "tickfont": {
          "color": "#4D5663"
         },
         "title": {
          "font": {
           "color": "#4D5663"
          },
          "text": ""
         },
         "zerolinecolor": "#E1E5ED"
        },
        "yaxis": {
         "gridcolor": "#E1E5ED",
         "showgrid": true,
         "tickfont": {
          "color": "#4D5663"
         },
         "title": {
          "font": {
           "color": "#4D5663"
          },
          "text": "Number of Complaints"
         },
         "zerolinecolor": "#E1E5ED"
        }
       }
      },
      "text/html": [
       "<div>\n",
       "        \n",
       "        \n",
       "            <div id=\"af014565-d981-48ad-bf1c-ce777afff447\" class=\"plotly-graph-div\" style=\"height:525px; width:100%;\"></div>\n",
       "            <script type=\"text/javascript\">\n",
       "                require([\"plotly\"], function(Plotly) {\n",
       "                    window.PLOTLYENV=window.PLOTLYENV || {};\n",
       "                    window.PLOTLYENV.BASE_URL='https://plot.ly';\n",
       "                    \n",
       "                if (document.getElementById(\"af014565-d981-48ad-bf1c-ce777afff447\")) {\n",
       "                    Plotly.newPlot(\n",
       "                        'af014565-d981-48ad-bf1c-ce777afff447',\n",
       "                        [{\"marker\": {\"color\": \"rgba(255, 153, 51, 0.6)\", \"line\": {\"color\": \"rgba(255, 153, 51, 1.0)\", \"width\": 1}}, \"name\": \"Product\", \"orientation\": \"v\", \"text\": \"\", \"type\": \"bar\", \"uid\": \"df66ca64-bb38-442a-b0d0-ebda639f98a5\", \"x\": [\"Credit reporting, credit repair services, or other personal consumer reports\", \"Debt collection\", \"Mortgage\", \"Credit card or prepaid card\", \"Student loan\", \"Checking or savings account\", \"Bank account or service\", \"Vehicle loan or lease\", \"Consumer Loan\", \"Money transfer, virtual currency, or money service\", \"Payday loan, title loan, or personal loan\", \"Prepaid card\", \"Money transfers\"], \"y\": [149068, 87764, 48980, 42250, 22484, 16838, 11686, 7265, 7243, 6958, 6884, 1153, 1085]}],\n",
       "                        {\"legend\": {\"bgcolor\": \"#F5F6F9\", \"font\": {\"color\": \"#4D5663\"}}, \"paper_bgcolor\": \"#F5F6F9\", \"plot_bgcolor\": \"#F5F6F9\", \"title\": {\"font\": {\"color\": \"#4D5663\"}, \"text\": \"Number complaints in each product\"}, \"xaxis\": {\"gridcolor\": \"#E1E5ED\", \"showgrid\": true, \"tickfont\": {\"color\": \"#4D5663\"}, \"title\": {\"font\": {\"color\": \"#4D5663\"}, \"text\": \"\"}, \"zerolinecolor\": \"#E1E5ED\"}, \"yaxis\": {\"gridcolor\": \"#E1E5ED\", \"showgrid\": true, \"tickfont\": {\"color\": \"#4D5663\"}, \"title\": {\"font\": {\"color\": \"#4D5663\"}, \"text\": \"Number of Complaints\"}, \"zerolinecolor\": \"#E1E5ED\"}},\n",
       "                        {\"showLink\": true, \"linkText\": \"Export to plot.ly\", \"plotlyServerURL\": \"https://plot.ly\", \"responsive\": true}\n",
       "                    ).then(function(){\n",
       "                            \n",
       "var gd = document.getElementById('af014565-d981-48ad-bf1c-ce777afff447');\n",
       "var x = new MutationObserver(function (mutations, observer) {{\n",
       "        var display = window.getComputedStyle(gd).display;\n",
       "        if (!display || display === 'none') {{\n",
       "            console.log([gd, 'removed!']);\n",
       "            Plotly.purge(gd);\n",
       "            observer.disconnect();\n",
       "        }}\n",
       "}});\n",
       "\n",
       "// Listen for the removal of the full notebook cells\n",
       "var notebookContainer = gd.closest('#notebook-container');\n",
       "if (notebookContainer) {{\n",
       "    x.observe(notebookContainer, {childList: true});\n",
       "}}\n",
       "\n",
       "// Listen for the clearing of the current output cell\n",
       "var outputEl = gd.closest('.output');\n",
       "if (outputEl) {{\n",
       "    x.observe(outputEl, {childList: true});\n",
       "}}\n",
       "\n",
       "                        })\n",
       "                };\n",
       "                });\n",
       "            </script>\n",
       "        </div>"
      ]
     },
     "metadata": {},
     "output_type": "display_data"
    }
   ],
   "source": [
    "#bar plot of the distribution after consolidation\n",
    "df['Product'].value_counts().sort_values(ascending=False).iplot(kind='bar', yTitle='Number of Complaints', \n",
    "                                                                title='Number complaints in each product')"
   ]
  },
  {
   "cell_type": "markdown",
   "metadata": {},
   "source": [
    "# TEXT PREPOCESSING : 2-CLEANING"
   ]
  },
  {
   "cell_type": "code",
   "execution_count": null,
   "metadata": {},
   "outputs": [],
   "source": [
    "\n",
    "#import nltk #world's most relevant package to text processing\n",
    "import re # package to regular expression to find , substract a substring from the text\n",
    "from nltk.corpus import stopwords #package of predefined stop words available in nltk\n",
    "from stop_words import get_stop_words # specified package of predefined stop words\n",
    "from nltk.tokenize import sent_tokenize, word_tokenize # split the text into words/tokens\n",
    "\n",
    "########################################################################################################\n",
    "def cleaning_data (text) :\n",
    "    #this function process to the cleaning by using regular expression\n",
    "    #lover the text\n",
    "    text= text.lower()\n",
    "    #links\n",
    "    text=re.sub('https://\\S+','lien',text)\n",
    "    text=re.sub('http\\S+\\s','lien',text)\n",
    "    #email\n",
    "    text=re.sub('\\w+@\\w+','',text)\n",
    "    #ponctualtion\n",
    "    text=re.sub('[%s]' % re.escape(\"\"\"!\"#/\\$%&()*+',-.:;<=>?[]^_`{|}~°•\"\"\"), ' ', text)\n",
    "    text=re.sub('[%s]' % re.escape('\"\"'), ' ', text)\n",
    "    text=re.sub('[%s]' % re.escape(\"'\"), ' ', text)\n",
    "    # remove special characters and digits\n",
    "    text=re.sub(\"(\\d)+\",\" \",text) \n",
    "    #remove +2 blank spaces\n",
    "    text = re.sub('\\s+', ' ', text)\n",
    "    #words with 1 to 2 letters\n",
    "    text= re.sub(r'\\W*\\b\\w{1,2}\\b', ' ', text)\n",
    "    #after visualiting the data we find that xxxx and xxx was used a lot , so we gonna just remove it \n",
    "    text= re.sub('xxx', ' ', text)\n",
    "    text= re.sub('xxxx', ' ', text)\n",
    "    #stop words\n",
    "    stopwords = get_stop_words('en') # stopwords from stopwords packages\n",
    "    text = ' '.join(word for word in text.split() if word not in (stopwords))\n",
    "                    \n",
    "    ####or you can use the nltk collection of stopwords\n",
    "    #set(stopwords.words('english'))\n",
    "    #stop_words = set(stopwords.words('english'))  \n",
    "    #text = ' '.join(word for word in text.split() if word not in (stop_words)\n",
    "    #non-relevant words               \n",
    "    nrelevant=['did']\n",
    "    words=word_tokenize(text)\n",
    "    for word in words:\n",
    "        if word.lower() in nrelevant:\n",
    "            text=text.replace(word,' ')\n",
    "    #remove +2 blank spaces\n",
    "    text = re.sub('\\s+', ' ', text)\n",
    "    return text\n",
    "########################################################################################################\n",
    "df['Consumer complaint narrative'] = df['Consumer complaint narrative'].apply(lambda x:cleaning_data(x))   "
   ]
  },
  {
   "cell_type": "code",
   "execution_count": null,
   "metadata": {},
   "outputs": [],
   "source": [
    "#LSTM MODELING"
   ]
  },
  {
   "cell_type": "code",
   "execution_count": 18,
   "metadata": {},
   "outputs": [
    {
     "data": {
      "text/plain": [
       "39238475"
      ]
     },
     "execution_count": 18,
     "metadata": {},
     "output_type": "execute_result"
    }
   ],
   "source": [
    "#Let's look how many word we got in our dataset\n",
    "df['Consumer complaint narrative'].apply(lambda x: len(x.split(' '))).sum()"
   ]
  },
  {
   "cell_type": "code",
   "execution_count": 20,
   "metadata": {},
   "outputs": [
    {
     "name": "stdout",
     "output_type": "stream",
     "text": [
      "Found 104653 unique tokens.\n"
     ]
    }
   ],
   "source": [
    "import keras\n",
    "# The maximum number of words to be used. (most frequent)\n",
    "MAX_NB_WORDS = 200000\n",
    "# Max number of words in each complaint.\n",
    "MAX_SEQUENCE_LENGTH = 250\n",
    "# This is fixed.\n",
    "EMBEDDING_DIM = 100\n",
    "tokenizer = keras.preprocessing.text.Tokenizer(num_words=MAX_NB_WORDS, filters='!\"#$%&()*+,-./:;<=>?@[\\]^_`{|}~', lower=True)\n",
    "tokenizer.fit_on_texts(df['Consumer complaint narrative'].values)\n",
    "word_index = tokenizer.word_index\n",
    "print('Found %s unique tokens.' % len(word_index))"
   ]
  },
  {
   "cell_type": "code",
   "execution_count": 23,
   "metadata": {},
   "outputs": [
    {
     "name": "stdout",
     "output_type": "stream",
     "text": [
      "Shape of data tensor: (409658, 250)\n"
     ]
    }
   ],
   "source": [
    "#Truncate and pad the input sequences so that they are all in the same length for modeling.\n",
    "X = tokenizer.texts_to_sequences(df['Consumer complaint narrative'].values)\n",
    "X = keras.preprocessing.sequence.pad_sequences(X, maxlen=MAX_SEQUENCE_LENGTH)\n",
    "print('Shape of data tensor:', X.shape)"
   ]
  },
  {
   "cell_type": "code",
   "execution_count": 24,
   "metadata": {},
   "outputs": [
    {
     "name": "stdout",
     "output_type": "stream",
     "text": [
      "Shape of label tensor: (409658, 13)\n"
     ]
    }
   ],
   "source": [
    "#Converting categorical labels to numbers.\n",
    "Y = pd.get_dummies(df['Product']).values\n",
    "print('Shape of label tensor:', Y.shape)"
   ]
  },
  {
   "cell_type": "code",
   "execution_count": 26,
   "metadata": {},
   "outputs": [
    {
     "name": "stdout",
     "output_type": "stream",
     "text": [
      "(368692, 250) (368692, 13)\n",
      "(40966, 250) (40966, 13)\n"
     ]
    }
   ],
   "source": [
    "#Train test split\n",
    "from sklearn.model_selection import train_test_split # split the data to train and test set\n",
    "X_train, X_test, Y_train, Y_test = train_test_split(X,Y, test_size = 0.10, random_state = 42)\n",
    "print(X_train.shape,Y_train.shape)\n",
    "print(X_test.shape,Y_test.shape)"
   ]
  },
  {
   "cell_type": "code",
   "execution_count": 31,
   "metadata": {},
   "outputs": [
    {
     "name": "stdout",
     "output_type": "stream",
     "text": [
      "Train on 331822 samples, validate on 36870 samples\n",
      "Epoch 1/5\n",
      "331822/331822 [==============================] - 2899s 9ms/step - loss: 0.8521 - acc: 0.7265 - val_loss: 0.5892 - val_acc: 0.8006\n",
      "Epoch 2/5\n",
      "331822/331822 [==============================] - 2794s 8ms/step - loss: 0.5608 - acc: 0.8087 - val_loss: 0.5276 - val_acc: 0.8178\n",
      "Epoch 3/5\n",
      "331822/331822 [==============================] - 2784s 8ms/step - loss: 0.5003 - acc: 0.8276 - val_loss: 0.5065 - val_acc: 0.8264\n",
      "Epoch 4/5\n",
      "331822/331822 [==============================] - 2872s 9ms/step - loss: 0.4533 - acc: 0.8426 - val_loss: 0.5059 - val_acc: 0.8253\n",
      "Epoch 5/5\n",
      "331822/331822 [==============================] - 2896s 9ms/step - loss: 0.4142 - acc: 0.8572 - val_loss: 0.5033 - val_acc: 0.8289\n"
     ]
    }
   ],
   "source": [
    "from keras.models import Sequential\n",
    "from keras.layers import Embedding, SpatialDropout1D, LSTM, Dense\n",
    "from keras.callbacks import EarlyStopping\n",
    "model = Sequential()\n",
    "#The first layer is the embedded layer that uses 100 length vectors to represent each word.\n",
    "model.add(Embedding(MAX_NB_WORDS, EMBEDDING_DIM, input_length=X.shape[1]))\n",
    "#SpatialDropout1D performs variational dropout in NLP models.\n",
    "model.add(SpatialDropout1D(0.2))\n",
    "#The next layer is the LSTM layer with 100 memory units.\n",
    "model.add(LSTM(100, dropout=0.2, recurrent_dropout=0.2))\n",
    "#The output layer must create 13 output values, one for each class\n",
    "model.add(Dense(13, activation='softmax'))\n",
    "#Activation function is softmax for multi-class classification.\n",
    "#Because it is a multi-class classification problem, categorical_crossentropy is used as the loss function.\n",
    "model.compile(loss='categorical_crossentropy', optimizer='adam', metrics=['accuracy'])\n",
    "\n",
    "epochs = 5\n",
    "batch_size = 64\n",
    "\n",
    "history = model.fit(X_train, Y_train, epochs=epochs, batch_size=batch_size,validation_split=0.1,callbacks=[EarlyStopping(monitor='val_loss', patience=3, min_delta=0.0001)])\n"
   ]
  },
  {
   "cell_type": "code",
   "execution_count": 32,
   "metadata": {},
   "outputs": [
    {
     "name": "stdout",
     "output_type": "stream",
     "text": [
      "40966/40966 [==============================] - 67s 2ms/step\n",
      "Test set\n",
      "  Loss: 0.518\n",
      "  Accuracy: 0.822\n"
     ]
    }
   ],
   "source": [
    "accr = model.evaluate(X_test,Y_test)\n",
    "print('Test set\\n  Loss: {:0.3f}\\n  Accuracy: {:0.3f}'.format(accr[0],accr[1]))"
   ]
  },
  {
   "cell_type": "code",
   "execution_count": 37,
   "metadata": {},
   "outputs": [
    {
     "data": {
      "image/png": "[encoded data removed]",
      "text/plain": [
       "<Figure size 432x288 with 1 Axes>"
      ]
     },
     "metadata": {
      "needs_background": "light"
     },
     "output_type": "display_data"
    }
   ],
   "source": [
    "import matplotlib.pyplot as plt\n",
    "plt.title('Loss')\n",
    "plt.plot(history.history['loss'], label='train')\n",
    "plt.plot(history.history['val_loss'], label='test')\n",
    "plt.legend()\n",
    "plt.show();"
   ]
  },
  {
   "cell_type": "code",
   "execution_count": 38,
   "metadata": {},
   "outputs": [
    {
     "data": {
      "image/png": "[encoded data removed]",
      "text/plain": [
       "<Figure size 432x288 with 1 Axes>"
      ]
     },
     "metadata": {
      "needs_background": "light"
     },
     "output_type": "display_data"
    }
   ],
   "source": [
    "plt.title('Accuracy')\n",
    "plt.plot(history.history['acc'], label='train')\n",
    "plt.plot(history.history['val_acc'], label='test')\n",
    "plt.legend()\n",
    "plt.show();"
   ]
  },
  {
   "cell_type": "code",
   "execution_count": 39,
   "metadata": {},
   "outputs": [
    {
     "ename": "NameError",
     "evalue": "name 'pad_sequences' is not defined",
     "output_type": "error",
     "traceback": [
      "\u001b[0;31m---------------------------------------------------------------------------\u001b[0m",
      "\u001b[0;31mNameError\u001b[0m                                 Traceback (most recent call last)",
      "\u001b[0;32m<ipython-input-39-a79a9091ef04>\u001b[0m in \u001b[0;36m<module>\u001b[0;34m\u001b[0m\n\u001b[1;32m      1\u001b[0m \u001b[0mnew_complaint\u001b[0m \u001b[0;34m=\u001b[0m \u001b[0;34m[\u001b[0m\u001b[0;34m'I am a victim of identity theft and someone stole my identity and personal information to open up a Visa credit card account with Bank of America. The following Bank of America Visa credit card account do not belong to me : XXXX.'\u001b[0m\u001b[0;34m]\u001b[0m\u001b[0;34m\u001b[0m\u001b[0;34m\u001b[0m\u001b[0m\n\u001b[1;32m      2\u001b[0m \u001b[0mseq\u001b[0m \u001b[0;34m=\u001b[0m \u001b[0mtokenizer\u001b[0m\u001b[0;34m.\u001b[0m\u001b[0mtexts_to_sequences\u001b[0m\u001b[0;34m(\u001b[0m\u001b[0mnew_complaint\u001b[0m\u001b[0;34m)\u001b[0m\u001b[0;34m\u001b[0m\u001b[0;34m\u001b[0m\u001b[0m\n\u001b[0;32m----> 3\u001b[0;31m \u001b[0mpadded\u001b[0m \u001b[0;34m=\u001b[0m \u001b[0mpad_sequences\u001b[0m\u001b[0;34m(\u001b[0m\u001b[0mseq\u001b[0m\u001b[0;34m,\u001b[0m \u001b[0mmaxlen\u001b[0m\u001b[0;34m=\u001b[0m\u001b[0mMAX_SEQUENCE_LENGTH\u001b[0m\u001b[0;34m)\u001b[0m\u001b[0;34m\u001b[0m\u001b[0;34m\u001b[0m\u001b[0m\n\u001b[0m\u001b[1;32m      4\u001b[0m \u001b[0mpred\u001b[0m \u001b[0;34m=\u001b[0m \u001b[0mmodel\u001b[0m\u001b[0;34m.\u001b[0m\u001b[0mpredict\u001b[0m\u001b[0;34m(\u001b[0m\u001b[0mpadded\u001b[0m\u001b[0;34m)\u001b[0m\u001b[0;34m\u001b[0m\u001b[0;34m\u001b[0m\u001b[0m\n\u001b[1;32m      5\u001b[0m \u001b[0mlabels\u001b[0m \u001b[0;34m=\u001b[0m \u001b[0;34m[\u001b[0m\u001b[0;34m'Credit reporting, credit repair services, or other personal consumer reports'\u001b[0m\u001b[0;34m,\u001b[0m \u001b[0;34m'Debt collection'\u001b[0m\u001b[0;34m,\u001b[0m \u001b[0;34m'Mortgage'\u001b[0m\u001b[0;34m,\u001b[0m \u001b[0;34m'Credit card or prepaid card'\u001b[0m\u001b[0;34m,\u001b[0m \u001b[0;34m'Student loan'\u001b[0m\u001b[0;34m,\u001b[0m \u001b[0;34m'Bank account or service'\u001b[0m\u001b[0;34m,\u001b[0m \u001b[0;34m'Checking or savings account'\u001b[0m\u001b[0;34m,\u001b[0m \u001b[0;34m'Consumer Loan'\u001b[0m\u001b[0;34m,\u001b[0m \u001b[0;34m'Payday loan, title loan, or personal loan'\u001b[0m\u001b[0;34m,\u001b[0m \u001b[0;34m'Vehicle loan or lease'\u001b[0m\u001b[0;34m,\u001b[0m \u001b[0;34m'Money transfer, virtual currency, or money service'\u001b[0m\u001b[0;34m,\u001b[0m \u001b[0;34m'Money transfers'\u001b[0m\u001b[0;34m,\u001b[0m \u001b[0;34m'Prepaid card'\u001b[0m\u001b[0;34m]\u001b[0m\u001b[0;34m\u001b[0m\u001b[0;34m\u001b[0m\u001b[0m\n",
      "\u001b[0;31mNameError\u001b[0m: name 'pad_sequences' is not defined"
     ]
    }
   ],
   "source": [
    "new_complaint = ['I am a victim of identity theft and someone stole my identity and personal information to open up a Visa credit card account with Bank of America. The following Bank of America Visa credit card account do not belong to me : XXXX.']\n",
    "seq = tokenizer.texts_to_sequences(new_complaint)\n",
    "padded = pad_sequences(seq, maxlen=MAX_SEQUENCE_LENGTH)\n",
    "pred = model.predict(padded)\n",
    "labels = ['Credit reporting, credit repair services, or other personal consumer reports', 'Debt collection', 'Mortgage', 'Credit card or prepaid card', 'Student loan', 'Bank account or service', 'Checking or savings account', 'Consumer Loan', 'Payday loan, title loan, or personal loan', 'Vehicle loan or lease', 'Money transfer, virtual currency, or money service', 'Money transfers', 'Prepaid card']\n",
    "print(pred, labels[np.argmax(pred)])"
   ]
  },
  {
   "cell_type": "code",
   "execution_count": null,
   "metadata": {},
   "outputs": [],
   "source": []
  }
 ],
 "metadata": {
  "kernelspec": {
   "display_name": "Python 3",
   "language": "python",
   "name": "python3"
  },
  "language_info": {
   "codemirror_mode": {
    "name": "ipython",
    "version": 3
   },
   "file_extension": ".py",
   "mimetype": "text/x-python",
   "name": "python",
   "nbconvert_exporter": "python",
   "pygments_lexer": "ipython3",
   "version": "3.6.8"
  }
 },
 "nbformat": 4,
 "nbformat_minor": 2
}
